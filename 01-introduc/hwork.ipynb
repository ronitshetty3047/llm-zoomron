{
 "cells": [
  {
   "cell_type": "code",
   "execution_count": 1,
   "id": "ee691166-df6d-47ae-8d76-293551d7f8e2",
   "metadata": {},
   "outputs": [],
   "source": [
    "import openai"
   ]
  },
  {
   "cell_type": "code",
   "execution_count": 2,
   "id": "25131732-3045-4114-b1bc-1fe42a6ddd8c",
   "metadata": {},
   "outputs": [],
   "source": [
    "from openai import OpenAI"
   ]
  },
  {
   "cell_type": "code",
   "execution_count": 3,
   "id": "59d86e04-235d-4638-8e82-c173c7ff651e",
   "metadata": {},
   "outputs": [],
   "source": [
    "client = OpenAI()"
   ]
  },
  {
   "cell_type": "code",
   "execution_count": 4,
   "id": "e153f831-460a-4d88-8d44-99b1951153ce",
   "metadata": {},
   "outputs": [],
   "source": [
    "import os"
   ]
  },
  {
   "cell_type": "code",
   "execution_count": 6,
   "id": "a8498367-0f0e-48e2-94d4-2ab657526769",
   "metadata": {},
   "outputs": [],
   "source": [
    "response = client.chat.completions.create(\n",
    "    model='gpt-4o',\n",
    "    messages=[{\"role\":\"user\",\"content\": \"is it too late to join the course?\"}]\n",
    ")"
   ]
  },
  {
   "cell_type": "code",
   "execution_count": 7,
   "id": "24c4bf7b-0ed7-4705-bf5c-10a4c7a3c467",
   "metadata": {},
   "outputs": [
    {
     "data": {
      "text/plain": [
       "\"I'm not sure which course you're referring to, but I can give you some general advice. Whether it's too late to join a course can depend on several factors:\\n\\n1. **Enrollment Deadlines**: Check if the course has a specific enrollment deadline. Many courses, especially those at universities, have strict cutoff dates.\\n\\n2. **Course Progress**: Consider how far along the course is and whether you can catch up on missed material. Some courses might allow late registration but expect you to cover missed content independently.\\n\\n3. **Instructor Policy**: Contact the instructor or course administrator to see if late enrollment is possible and if they can provide any additional support or resources.\\n\\n4. **Course Format**: Online and self-paced courses might offer more flexibility for late starters, whereas in-person or scheduled sessions might not.\\n\\n5. **Your Schedule**: Ensure you have enough time to commit to the course, including making up any initial classes or assignments you missed.\\n\\nIf you provide more specific information about the course, I might be able to offer more detailed advice.\""
      ]
     },
     "execution_count": 7,
     "metadata": {},
     "output_type": "execute_result"
    }
   ],
   "source": [
    "response.choices[0].message.content"
   ]
  },
  {
   "cell_type": "code",
   "execution_count": null,
   "id": "137895db-92d7-4d65-b92e-ad54a7b0fece",
   "metadata": {},
   "outputs": [],
   "source": []
  }
 ],
 "metadata": {
  "kernelspec": {
   "display_name": "Python 3 (ipykernel)",
   "language": "python",
   "name": "python3"
  },
  "language_info": {
   "codemirror_mode": {
    "name": "ipython",
    "version": 3
   },
   "file_extension": ".py",
   "mimetype": "text/x-python",
   "name": "python",
   "nbconvert_exporter": "python",
   "pygments_lexer": "ipython3",
   "version": "3.11.13"
  }
 },
 "nbformat": 4,
 "nbformat_minor": 5
}
